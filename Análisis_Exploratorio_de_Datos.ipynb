{
  "nbformat": 4,
  "nbformat_minor": 0,
  "metadata": {
    "colab": {
      "name": "Análisis Exploratorio de Datos.ipynb",
      "provenance": [],
      "include_colab_link": true
    },
    "kernelspec": {
      "name": "python3",
      "display_name": "Python 3"
    },
    "language_info": {
      "name": "python"
    }
  },
  "cells": [
    {
      "cell_type": "markdown",
      "metadata": {
        "id": "view-in-github",
        "colab_type": "text"
      },
      "source": [
        "<a href=\"https://colab.research.google.com/github/LabCInf/Data-Analysis-Basic/blob/main/An%C3%A1lisis_Exploratorio_de_Datos.ipynb\" target=\"_parent\"><img src=\"https://colab.research.google.com/assets/colab-badge.svg\" alt=\"Open In Colab\"/></a>"
      ]
    },
    {
      "cell_type": "markdown",
      "source": [
        "<p><img alt=\"Colaboratory logo\" height=\"140px\" src=\"https://upload.wikimedia.org/wikipedia/commons/archive/f/fb/20161010213812%21Escudo-UdeA.svg\" align=\"left\" hspace=\"10px\" vspace=\"0px\"></p>\n",
        "\n",
        "<h1> Recurso: análisis exploraatorio de datos</h1>\n",
        "\n",
        "<h2>Material preparado por: Juan Fernando Pérez</h2>\n",
        "\n",
        "Recuerden que lo más importante siempre será **¡prácticar, prácticar y prácticar!**\n",
        "\n"
      ],
      "metadata": {
        "id": "G4tpVlMi1mxU"
      }
    },
    {
      "cell_type": "markdown",
      "source": [
        "# Librerías"
      ],
      "metadata": {
        "id": "2jBBcDgJ03yU"
      }
    },
    {
      "cell_type": "code",
      "execution_count": null,
      "metadata": {
        "id": "ApD5U6gL0k_y"
      },
      "outputs": [],
      "source": [
        "import pandas as pd\n",
        "import numpy as np\n",
        "import seaborn as sns\n",
        "import matplotlib.pyplot as plt\n",
        "%matplotlib inline"
      ]
    },
    {
      "cell_type": "markdown",
      "source": [
        "# Cargar datos"
      ],
      "metadata": {
        "id": "gSr-1LYg1Jrs"
      }
    },
    {
      "cell_type": "code",
      "source": [
        "df = pd.read_csv(\"/content/drive/MyDrive/winequality-white.csv\",sep=\";\", encoding=\"utf-8-sig\")\n",
        "df.head() #\".head() \" devuelve las primeras cinco observaciones del conjunto de datos"
      ],
      "metadata": {
        "id": "-K5XZ2b91PLA"
      },
      "execution_count": null,
      "outputs": []
    },
    {
      "cell_type": "code",
      "source": [
        "df.shape"
      ],
      "metadata": {
        "id": "BNqo41vV5duy"
      },
      "execution_count": null,
      "outputs": []
    },
    {
      "cell_type": "markdown",
      "source": [
        "El conjunto de datos consta de 4898 observaciones y 12 características"
      ],
      "metadata": {
        "id": "SRbOnb4t59Ec"
      }
    },
    {
      "cell_type": "code",
      "source": [
        "df.columns.values"
      ],
      "metadata": {
        "id": "8rU61KzR6R5u"
      },
      "execution_count": null,
      "outputs": []
    },
    {
      "cell_type": "markdown",
      "source": [
        "Etiqueta de cada columna"
      ],
      "metadata": {
        "id": "kYqE_BW76jbM"
      }
    },
    {
      "cell_type": "code",
      "source": [
        "df.info()"
      ],
      "metadata": {
        "id": "qA43XYQ_6pdw"
      },
      "execution_count": null,
      "outputs": []
    },
    {
      "cell_type": "markdown",
      "source": [
        "Los datos solo tienen valores flotantes y enteros\n",
        "\n",
        "Ninguna columna de variable tiene valores nulos/faltantes\n",
        "\n"
      ],
      "metadata": {
        "id": "a1UzC6io6pu5"
      }
    },
    {
      "cell_type": "markdown",
      "source": [
        "# Estadísticas resumidas"
      ],
      "metadata": {
        "id": "cutx2uJ57Pbv"
      }
    },
    {
      "cell_type": "code",
      "source": [
        "df.describe() "
      ],
      "metadata": {
        "id": "QyNRLkYL7R5R"
      },
      "execution_count": null,
      "outputs": []
    },
    {
      "cell_type": "markdown",
      "source": [
        "\n",
        "\n",
        "1.   El valor medio es menor que el valor medio de cada columna representado por el 50 % (percentil 50) en la columna de índice.\n",
        "2.   Diferencia notablemente grande en el porcentaje 75 y los valores máximos de los predictores \"azúcar residual\", \"dióxido de azufre libre\", \"dióxido de azufre total\".\n",
        "3.  Por lo tanto, las observaciones 1 y 2 sugieren que hay valores extremos: valores atípicos en nuestro conjunto de datos\n",
        "\n"
      ],
      "metadata": {
        "id": "zfCiH2aU7Vnn"
      }
    },
    {
      "cell_type": "markdown",
      "source": [
        "# Comprender la variable objetivo"
      ],
      "metadata": {
        "id": "u36zl7U_7yS8"
      }
    },
    {
      "cell_type": "code",
      "source": [
        "df.quality.value_counts()"
      ],
      "metadata": {
        "id": "rnCFE6CD7ze8"
      },
      "execution_count": null,
      "outputs": []
    },
    {
      "cell_type": "markdown",
      "source": [
        "\n",
        "\n",
        "1.   Esto nos dice el recuento de votos de cada puntaje de calidad en orden descendente.\n",
        "2.   \"calidad\" tiene la mayoría de los valores concentrados en las categorías 5, 6 y 7.\n",
        "3.  Sólo unas pocas observaciones hechas para las categorías 3 y 9\n",
        "\n"
      ],
      "metadata": {
        "id": "NScgz3EM76fg"
      }
    },
    {
      "cell_type": "markdown",
      "source": [
        "# Visualización de datos"
      ],
      "metadata": {
        "id": "9UGr1tmq8F46"
      }
    },
    {
      "cell_type": "code",
      "source": [
        "#Matriz de correlación de calidad\n",
        "k = 12 #número de variables para el mapa de calor \n",
        "cols = df.corr().nlargest(k, 'quality')['quality'].index\n",
        "cm = df[cols].corr()\n",
        "plt.figure(figsize=(10,6))\n",
        "sns.heatmap(cm, annot=True, cmap = 'viridis')"
      ],
      "metadata": {
        "id": "GH_waqyd715N"
      },
      "execution_count": null,
      "outputs": []
    },
    {
      "cell_type": "markdown",
      "source": [
        "\n",
        "\n",
        "1.   Aquí podemos inferir que la \"densidad\" tiene una fuerte correlación positiva con el \"azúcar residual\", mientras que tiene una fuerte correlación negativa con el \"alcohol\"\n",
        "2.   \"dióxido de azufre libre\" y \"ácido cítrico\" casi no tienen correlación con la \"calidad\"\n",
        "3.   Dado que la correlación es cero, podemos inferir que no existe una relación lineal entre estos dos predictores. Sin embargo, es seguro descartar estas funciones en caso de que esté aplicando el modelo de regresión lineal al conjunto de datos.\n",
        "\n"
      ],
      "metadata": {
        "id": "AVDj0k6A8UFY"
      }
    }
  ]
}